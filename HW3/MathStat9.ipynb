{
  "nbformat": 4,
  "nbformat_minor": 0,
  "metadata": {
    "colab": {
      "provenance": []
    },
    "kernelspec": {
      "name": "python3",
      "display_name": "Python 3"
    },
    "language_info": {
      "name": "python"
    }
  },
  "cells": [
    {
      "cell_type": "code",
      "execution_count": 84,
      "metadata": {
        "id": "rlgyiy9nSi58"
      },
      "outputs": [],
      "source": [
        "import matplotlib.pyplot as plt\n",
        "import numpy as np\n",
        "from scipy import integrate\n",
        "from scipy import stats"
      ]
    },
    {
      "cell_type": "code",
      "source": [
        "Y = np.arange (10)\n",
        "X = [5, 8, 6, 12, 14, 18, 11, 6, 13, 7]\n",
        "n = 100"
      ],
      "metadata": {
        "id": "BWLu9r-oTF-f"
      },
      "execution_count": 85,
      "outputs": []
    },
    {
      "cell_type": "code",
      "source": [
        "#подсчёт Коломогорова\n",
        "X_sample = []\n",
        "for i in range(len(X)):\n",
        "    for j in range(X[i]):\n",
        "        X_sample.append(i)"
      ],
      "metadata": {
        "id": "PNWLMfMvTKZ7"
      },
      "execution_count": 86,
      "outputs": []
    },
    {
      "cell_type": "code",
      "source": [
        "F_acc = stats.uniform.cdf(Y, loc=-0.5, scale=10)\n",
        "F_emp = []"
      ],
      "metadata": {
        "id": "IbuUatm2HrBn"
      },
      "execution_count": 87,
      "outputs": []
    },
    {
      "cell_type": "code",
      "source": [
        "for i in Y:\n",
        "    F_emp.append(np.sum(X_sample < i) / n)\n",
        "\n",
        "delta = (n**0.5) * max([abs(F_acc[i] - F_emp[i]) for i in range(len(Y))])\n",
        "print(\"delta =\",delta)"
      ],
      "metadata": {
        "colab": {
          "base_uri": "https://localhost:8080/"
        },
        "id": "8Z95dptNTNaz",
        "outputId": "c58d8e77-ec7d-4cbe-b8ce-ddf4c729d5db"
      },
      "execution_count": 88,
      "outputs": [
        {
          "output_type": "stream",
          "name": "stdout",
          "text": [
            "delta = 1.5999999999999996\n"
          ]
        }
      ]
    },
    {
      "cell_type": "code",
      "source": [
        "#Подсчет Хи2, Колмогорова\n",
        "limits = [-np.inf]\n",
        "for i in range(len(Y) - 1):\n",
        "    limits.append(i + 0.5)\n",
        "limits.append(np.inf)\n",
        "\n",
        "print(limits)"
      ],
      "metadata": {
        "colab": {
          "base_uri": "https://localhost:8080/"
        },
        "id": "eHbBodlGTVYf",
        "outputId": "52a2ed9d-c746-4ab3-a006-fa7e6e36e701"
      },
      "execution_count": 89,
      "outputs": [
        {
          "output_type": "stream",
          "name": "stdout",
          "text": [
            "[-inf, 0.5, 1.5, 2.5, 3.5, 4.5, 5.5, 6.5, 7.5, 8.5, inf]\n"
          ]
        }
      ]
    },
    {
      "cell_type": "code",
      "source": [
        "def normal_pdf(x, a, sigma):\n",
        "    return (1 / (sigma * np.sqrt(2 * np.pi))) * np.exp(-(x - a)**2 / (2 * sigma**2))"
      ],
      "metadata": {
        "id": "3aMck_MnTdgM"
      },
      "execution_count": 90,
      "outputs": []
    },
    {
      "cell_type": "code",
      "source": [
        "a, sigma = np.linspace(2, 8, 100), np.linspace(2, 8, 100)\n",
        "L_max, a_norm, sigma_norm  = 0, 0, 0"
      ],
      "metadata": {
        "id": "nNDCbDTrHjn5"
      },
      "execution_count": 91,
      "outputs": []
    },
    {
      "cell_type": "code",
      "source": [
        "for sigma_i in sigma:\n",
        "    for a_i in a:\n",
        "        L_i = 1\n",
        "\n",
        "        for i in range(len(X)):\n",
        "            p_i = integrate.quad(normal_pdf, limits[i], limits[i + 1], args = (a_i, sigma_i))[0]\n",
        "            L_i *= p_i ** X[i]\n",
        "\n",
        "        if L_i > L_max:\n",
        "            L_max = L_i\n",
        "            sigma_norm = sigma_i\n",
        "            a_norm = a_i"
      ],
      "metadata": {
        "id": "Jp0MCEf5TgXm"
      },
      "execution_count": 92,
      "outputs": []
    },
    {
      "cell_type": "code",
      "source": [
        "print(\"a =\", a_norm, \"\\nsigma =\", sigma_norm)"
      ],
      "metadata": {
        "colab": {
          "base_uri": "https://localhost:8080/"
        },
        "id": "C1ByMmrbTkYL",
        "outputId": "53cfcee1-f5af-4864-a7ba-b184135fa987"
      },
      "execution_count": 93,
      "outputs": [
        {
          "output_type": "stream",
          "name": "stdout",
          "text": [
            "a = 4.787878787878788 \n",
            "sigma = 2.666666666666667\n"
          ]
        }
      ]
    },
    {
      "cell_type": "code",
      "source": [
        "delta = 0\n",
        "for i in range(len(X)):\n",
        "    p_i = integrate.quad(normal_pdf, limits[i], limits[i + 1], args = (a_norm, sigma_norm))[0]\n",
        "    delta += (X[i] - n * p_i)**2 / (n * p_i)\n",
        "print(\"delta =\", delta)"
      ],
      "metadata": {
        "colab": {
          "base_uri": "https://localhost:8080/"
        },
        "id": "wXF4D7SeTsXi",
        "outputId": "1c1b5377-cf35-4b99-f3a9-b82e3947fc92"
      },
      "execution_count": 94,
      "outputs": [
        {
          "output_type": "stream",
          "name": "stdout",
          "text": [
            "delta = 9.819409868080811\n"
          ]
        }
      ]
    },
    {
      "cell_type": "code",
      "source": [
        "N = 50000\n",
        "delta_K = []"
      ],
      "metadata": {
        "id": "_N96sT_hHtiB"
      },
      "execution_count": 95,
      "outputs": []
    },
    {
      "cell_type": "code",
      "source": [
        "for i in range(N):\n",
        "    sample_i = np.random.normal(a_norm, sigma_norm, n)\n",
        "    tmp = np.linspace(0, max(max(sample_i), 9), 100)\n",
        "\n",
        "    F_emp_star = [np.sum(sample_i < j) / n for j in tmp]\n",
        "    F_emp = [np.sum(X_sample < j) / n for j in tmp]\n",
        "\n",
        "    delta_i = (n ** 0.5) * max([abs(F_emp_star[i] - F_emp[i]) for i in range(len(tmp))])\n",
        "    delta_K.append(delta_i)"
      ],
      "metadata": {
        "id": "pGsFAwWxTvzN"
      },
      "execution_count": 96,
      "outputs": []
    },
    {
      "cell_type": "code",
      "source": [
        "delta_wave = (n ** 0.5) * np.max (abs([np.sum(X_sample < j) / n for j in Y] - stats.norm(a_norm, sigma_norm).cdf(Y)))\n",
        "\n",
        "delta_K_var = np.sort(delta_K)\n",
        "\n",
        "k = len(delta_K_var [delta_K_var < delta_wave])\n",
        "p_value = 1 - ((k - 1)/N)\n",
        "\n",
        "print(\"delta~ =\", delta_wave)\n",
        "print(\"p-value =\", p_value)"
      ],
      "metadata": {
        "colab": {
          "base_uri": "https://localhost:8080/"
        },
        "id": "tzOcROIiT0dR",
        "outputId": "d64c75ad-6aca-4fc3-c1d2-8401dccee975"
      },
      "execution_count": 97,
      "outputs": [
        {
          "output_type": "stream",
          "name": "stdout",
          "text": [
            "delta~ = 0.8581058774325867\n",
            "p-value = 0.9939\n"
          ]
        }
      ]
    },
    {
      "cell_type": "code",
      "source": [
        "#Хи2 метод моментов\n",
        "a_mm = np.mean(X_sample)\n",
        "sigma_mm = np.std(X_sample)\n",
        "\n",
        "print(a_mm, sigma_mm)"
      ],
      "metadata": {
        "colab": {
          "base_uri": "https://localhost:8080/"
        },
        "id": "MapMerBcT78r",
        "outputId": "759cf9b5-0364-48d5-a8a4-7d82558419d9"
      },
      "execution_count": 98,
      "outputs": [
        {
          "output_type": "stream",
          "name": "stdout",
          "text": [
            "4.77 2.505414137423193\n"
          ]
        }
      ]
    },
    {
      "cell_type": "code",
      "source": [
        "delta_mm = []\n",
        "N = 10000"
      ],
      "metadata": {
        "id": "-O7ewl2PHxJe"
      },
      "execution_count": 99,
      "outputs": []
    },
    {
      "cell_type": "code",
      "source": [
        "for i in range (N):\n",
        "    sample_i = np.random.normal(a_mm, sigma_mm, n)\n",
        "    mean_i = np.mean(sample_i)\n",
        "    sigma_i = np.std(sample_i)\n",
        "\n",
        "    p_i, m_i = [], []\n",
        "\n",
        "    for j in range(len(X)):\n",
        "        p_i.append(integrate.quad(normal_pdf, limits[j], limits[j + 1], args = (mean_i, sigma_i))[0])\n",
        "        m_i.append(len(sample_i [(sample_i >= limits[j]) & (sample_i <= limits[j + 1])]))\n",
        "    delta_mm.append(sum(((m_i[i] - n * p_i[i]) ** 2) / (n * (p_i[i])) for i in range(len(X))))"
      ],
      "metadata": {
        "id": "dqcQFWSWUCtf"
      },
      "execution_count": 100,
      "outputs": []
    },
    {
      "cell_type": "code",
      "source": [
        "delta_mm_var = np.sort(delta_mm)\n",
        "p_value = 1 - ((len(delta_mm_var[delta_mm_var < delta]) - 1) / N)\n",
        "print(\"p-value =\", p_value, \"\\nНет основания отвергать гипотезу\")"
      ],
      "metadata": {
        "colab": {
          "base_uri": "https://localhost:8080/"
        },
        "id": "4eIUaW4sUGtH",
        "outputId": "b8533374-528f-4be7-93d8-56798b35aadb"
      },
      "execution_count": 101,
      "outputs": [
        {
          "output_type": "stream",
          "name": "stdout",
          "text": [
            "p-value = 0.20879999999999999 \n",
            "Нет основания отвергать гипотезу\n"
          ]
        }
      ]
    },
    {
      "cell_type": "code",
      "source": [],
      "metadata": {
        "id": "mMaA1wj1UHVx"
      },
      "execution_count": 101,
      "outputs": []
    }
  ]
}