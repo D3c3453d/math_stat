{
  "nbformat": 4,
  "nbformat_minor": 0,
  "metadata": {
    "colab": {
      "provenance": []
    },
    "kernelspec": {
      "name": "python3",
      "display_name": "Python 3"
    },
    "language_info": {
      "name": "python"
    }
  },
  "cells": [
    {
      "cell_type": "code",
      "execution_count": 1,
      "metadata": {
        "id": "o4MY8G6hAIGx"
      },
      "outputs": [],
      "source": [
        "import matplotlib.pyplot as plt\n",
        "import numpy as np\n",
        "import math\n",
        "from scipy import stats"
      ]
    },
    {
      "cell_type": "code",
      "source": [
        "theta = 3\n",
        "n = 100\n",
        "beta = 0.95\n",
        "xn = stats.pareto(b = theta).rvs(n)\n",
        "xn"
      ],
      "metadata": {
        "colab": {
          "base_uri": "https://localhost:8080/"
        },
        "id": "-1Xw-XTDCt-S",
        "outputId": "8fbf8404-be8a-4f8d-ba48-ebdacaf11e91"
      },
      "execution_count": 2,
      "outputs": [
        {
          "output_type": "execute_result",
          "data": {
            "text/plain": [
              "array([1.34060356, 1.09504111, 1.14634951, 2.37014625, 2.40091465,\n",
              "       1.1162909 , 1.30542344, 1.08884678, 1.03154349, 1.01675534,\n",
              "       1.17689983, 1.16203189, 1.14721506, 1.26331067, 1.30618259,\n",
              "       1.25800469, 1.01421679, 1.56801664, 1.13646729, 1.74455675,\n",
              "       1.22466443, 1.42748021, 1.45639017, 1.19979081, 1.14005598,\n",
              "       1.53249099, 1.74820593, 1.11693467, 1.09190941, 1.02207238,\n",
              "       1.37711078, 1.96512183, 1.64479235, 1.48519836, 2.67466665,\n",
              "       1.09860527, 2.59279044, 1.02683388, 1.53530643, 1.03719186,\n",
              "       2.52719809, 3.646261  , 1.09875024, 1.23516352, 1.20427234,\n",
              "       1.092412  , 1.04728952, 1.02031654, 1.07846431, 1.29562869,\n",
              "       2.32969905, 1.75800801, 1.21137803, 1.11891567, 1.00756716,\n",
              "       1.05400005, 1.02709685, 2.66768819, 1.43117302, 1.33757887,\n",
              "       1.26062635, 1.0553297 , 1.83601639, 1.29478058, 1.0112632 ,\n",
              "       1.09016492, 1.67962266, 1.33415108, 1.06671623, 1.10729735,\n",
              "       2.38258618, 1.31425884, 1.59612304, 1.10819402, 1.21006273,\n",
              "       1.19472378, 1.75063479, 2.38662415, 8.36187915, 1.25951991,\n",
              "       1.15206796, 2.27883125, 1.02217135, 1.24259567, 1.71940203,\n",
              "       1.56934764, 1.50761203, 1.96255346, 1.05618663, 1.48036744,\n",
              "       1.02253927, 1.046137  , 1.07975675, 1.18220213, 1.75208865,\n",
              "       1.25748753, 1.05874812, 1.13888175, 1.08498362, 1.02517106])"
            ]
          },
          "metadata": {},
          "execution_count": 2
        }
      ]
    },
    {
      "cell_type": "code",
      "source": [
        "theta_omp = n/np.sum(np.log(xn)) + 1\n",
        "median_beg = 2**(1/(theta_omp-1)) * (1 - np.log(2)*np.quantile(xn, (1+beta)/2) / (np.sqrt(n)*(theta_omp-1)))\n",
        "median_end = 2**(1/(theta_omp-1)) * (1 - np.log(2)*np.quantile(xn, (1-beta)/2) / (np.sqrt(n)*(theta_omp-1)))\n",
        "med = (np.sort(xn)[49] + np.sort(xn)[48])/2\n",
        "print('Доверительный интервал для медианы: (', round(median_beg, 3), ', ', round(median_end, 3), '), медиана: ', round(med, 3), sep = '')"
      ],
      "metadata": {
        "colab": {
          "base_uri": "https://localhost:8080/"
        },
        "id": "wmKubmdsDOIb",
        "outputId": "ea90514c-2a0a-4b64-cd45-0a5c83dbf27d"
      },
      "execution_count": 3,
      "outputs": [
        {
          "output_type": "stream",
          "name": "stdout",
          "text": [
            "Доверительный интервал для медианы: (1.173, 1.219), медиана: 1.218\n"
          ]
        }
      ]
    },
    {
      "cell_type": "code",
      "source": [
        "beg = theta_omp - (theta_omp-1)*np.quantile(xn, (1+beta)/2)/np.sqrt(n)\n",
        "end = theta_omp - (theta_omp-1)*np.quantile(xn, (1-beta)/2)/np.sqrt(n)\n",
        "print('Доверительный интервал для параметра: (', round(beg,3), ', ', round(end, 3), ')', sep = '')"
      ],
      "metadata": {
        "colab": {
          "base_uri": "https://localhost:8080/"
        },
        "id": "YFiVtJbwDs85",
        "outputId": "725dbded-f66f-4616-b458-7224720b8c4c"
      },
      "execution_count": 4,
      "outputs": [
        {
          "output_type": "stream",
          "name": "stdout",
          "text": [
            "Доверительный интервал для параметра: (3.304, 3.825)\n"
          ]
        }
      ]
    },
    {
      "cell_type": "code",
      "source": [
        "delta = []\n",
        "\n",
        "for i in range(1000):\n",
        "    subxn = np.random.choice(xn, size = n)\n",
        "    deltai = n/np.sum(np.log(subxn)) + 1 - theta_omp\n",
        "    delta.append(deltai)\n",
        "\n",
        "delta_var = np.sort(np.array(delta))\n",
        "bootstrap_beg = theta_omp - delta_var[974]\n",
        "bootstrap_end = theta_omp - delta_var[24]\n",
        "print('Непараметрический Bootstrap доверительный интервал: (', round(bootstrap_beg,3), ', ', round(bootstrap_end, 3), ')', sep = '')"
      ],
      "metadata": {
        "colab": {
          "base_uri": "https://localhost:8080/"
        },
        "id": "O620UDalDvbB",
        "outputId": "18d06ee3-af0d-4cee-e7ee-44defc0ae98b"
      },
      "execution_count": 5,
      "outputs": [
        {
          "output_type": "stream",
          "name": "stdout",
          "text": [
            "Непараметрический Bootstrap доверительный интервал: (3.399, 4.693)\n"
          ]
        }
      ]
    },
    {
      "cell_type": "code",
      "source": [
        "delta_param = []\n",
        "N = 10000\n",
        "\n",
        "for i in range(N):\n",
        "    subxn = stats.pareto(b = theta).rvs(n)\n",
        "    deltai = n/np.sum(np.log(subxn)) + 1 - theta_omp\n",
        "    delta_param.append(deltai)\n",
        "\n",
        "bootstrap_par_beg  = theta_omp + np.sort(np.array(delta_param))[int((1-beta)/2 * N)]\n",
        "bootstrap_par_end = theta_omp + np.sort(np.array(delta_param))[int((1+beta)/2 * N)]\n",
        "print('Параметрический bootstrap доверительный интервал: (', round(bootstrap_par_beg,3), ', ', round(bootstrap_par_end, 3), ')', sep = '')"
      ],
      "metadata": {
        "colab": {
          "base_uri": "https://localhost:8080/"
        },
        "id": "rmHaDxfIDzRp",
        "outputId": "ce399d01-acdf-4960-8839-aecd79cf3fbf"
      },
      "execution_count": 6,
      "outputs": [
        {
          "output_type": "stream",
          "name": "stdout",
          "text": [
            "Параметрический bootstrap доверительный интервал: (3.484, 4.701)\n"
          ]
        }
      ]
    },
    {
      "cell_type": "code",
      "source": [],
      "metadata": {
        "id": "rgkg4tyxD1w3"
      },
      "execution_count": 6,
      "outputs": []
    },
    {
      "cell_type": "code",
      "source": [],
      "metadata": {
        "id": "p29-TXItD35I"
      },
      "execution_count": null,
      "outputs": []
    }
  ]
}